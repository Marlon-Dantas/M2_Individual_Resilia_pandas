{
  "nbformat": 4,
  "nbformat_minor": 0,
  "metadata": {
    "colab": {
      "provenance": [],
      "authorship_tag": "ABX9TyOVJ+ga+j9FZkPImVQutVm8",
      "include_colab_link": true
    },
    "kernelspec": {
      "name": "python3",
      "display_name": "Python 3"
    },
    "language_info": {
      "name": "python"
    }
  },
  "cells": [
    {
      "cell_type": "markdown",
      "metadata": {
        "id": "view-in-github",
        "colab_type": "text"
      },
      "source": [
        "<a href=\"https://colab.research.google.com/github/Marlon-Dantas/M2_Individual_Resilia_pandas/blob/main/trab_individual_mod3.ipynb\" target=\"_parent\"><img src=\"https://colab.research.google.com/assets/colab-badge.svg\" alt=\"Open In Colab\"/></a>"
      ]
    },
    {
      "cell_type": "markdown",
      "source": [],
      "metadata": {
        "id": "rG96GWtTOcwT"
      }
    },
    {
      "cell_type": "code",
      "execution_count": 1,
      "metadata": {
        "colab": {
          "base_uri": "https://localhost:8080/"
        },
        "id": "PA9imtQWM8xp",
        "outputId": "d0707518-c7a1-429e-dcf1-12ad35be5dc8"
      },
      "outputs": [
        {
          "output_type": "stream",
          "name": "stdout",
          "text": [
            "       Dia  Horas Trabalhadas  Bugs Corrigidos  Tarefas Concluídas\n",
            "0  Segunda                  6                3                   5\n",
            "1    Terça                  7                2                   4\n",
            "2   Quarta                  8                1                   6\n",
            "3   Quinta                  6                4                   4\n",
            "4    Sexta                  7                3                   5\n",
            "5   Sábado                  5                2                   3\n",
            "6  Domingo                  4                1                   2\n"
          ]
        }
      ],
      "source": [
        "import pandas as pd\n",
        "\n",
        "data = {\n",
        "    \"Dia\": [\"Segunda\", \"Terça\", \"Quarta\", \"Quinta\", \"Sexta\", \"Sábado\", \"Domingo\"],\n",
        "    \"Horas Trabalhadas\": [6, 7, 8, 6, 7, 5, 4],\n",
        "    \"Bugs Corrigidos\": [3, 2, 1, 4, 3, 2, 1],\n",
        "    \"Tarefas Concluídas\": [5, 4, 6, 4, 5, 3, 2]\n",
        "}\n",
        "\n",
        "df = pd.DataFrame(data)\n",
        "\n",
        "print(df)\n"
      ]
    }
  ]
}