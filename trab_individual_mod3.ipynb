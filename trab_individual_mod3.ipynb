{
  "nbformat": 4,
  "nbformat_minor": 0,
  "metadata": {
    "colab": {
      "provenance": [],
      "toc_visible": true,
      "authorship_tag": "ABX9TyPEYkJZItVfmpNniC8dPvwp",
      "include_colab_link": true
    },
    "kernelspec": {
      "name": "python3",
      "display_name": "Python 3"
    },
    "language_info": {
      "name": "python"
    }
  },
  "cells": [
    {
      "cell_type": "markdown",
      "metadata": {
        "id": "view-in-github",
        "colab_type": "text"
      },
      "source": [
        "<a href=\"https://colab.research.google.com/github/Marlon-Dantas/M2_Individual_Resilia_pandas/blob/main/trab_individual_mod3.ipynb\" target=\"_parent\"><img src=\"https://colab.research.google.com/assets/colab-badge.svg\" alt=\"Open In Colab\"/></a>"
      ]
    },
    {
      "cell_type": "markdown",
      "source": [
        "#Criação do DataFrame"
      ],
      "metadata": {
        "id": "rG96GWtTOcwT"
      }
    },
    {
      "cell_type": "code",
      "execution_count": 35,
      "metadata": {
        "colab": {
          "base_uri": "https://localhost:8080/"
        },
        "id": "PA9imtQWM8xp",
        "outputId": "42f37d95-622d-4ac9-b74d-3a30d89aebec"
      },
      "outputs": [
        {
          "output_type": "stream",
          "name": "stdout",
          "text": [
            "Total de Horas Trabalhadas na Semana: 43\n"
          ]
        }
      ],
      "source": [
        "import pandas as pd\n",
        "\n",
        "# Dicionário usado para criação das análises posteriores\n",
        "infos = {\n",
        "    \"Dia\": [\"Segunda\", \"Terça\", \"Quarta\", \"Quinta\", \"Sexta\", \"Sábado\", \"Domingo\"],\n",
        "    \"Horas Trabalhadas\": [6, 7, 8, 6, 7, 5, 4],\n",
        "    \"Bugs Corrigidos\": [3, 2, 1, 4, 3, 2, 1],\n",
        "    \"Tarefas Concluídas\": [5, 4, 6, 4, 5, 3, 2]\n",
        "}\n",
        "\n",
        "df = pd.DataFrame(infos)\n"
      ]
    },
    {
      "cell_type": "markdown",
      "source": [
        "#1. Pergunta: Total de horas trabalhadas?"
      ],
      "metadata": {
        "id": "jNq0zsHFWyVb"
      }
    },
    {
      "cell_type": "code",
      "source": [
        "# Calcular o total de horas trabalhadas\n",
        "total_horas_trabalhadas = df[\"Horas Trabalhadas\"].sum()\n",
        "\n",
        "# Exibir DataFrame e total de horas trabalhadas\n",
        "print(f\"Total de horas trabalhadas na semana: {total_horas_trabalhadas}\")\n"
      ],
      "metadata": {
        "colab": {
          "base_uri": "https://localhost:8080/"
        },
        "id": "b-h3hpP5XHPS",
        "outputId": "07461736-007c-49cb-ea83-bf17c4f822d2"
      },
      "execution_count": 36,
      "outputs": [
        {
          "output_type": "stream",
          "name": "stdout",
          "text": [
            "Total de Horas Trabalhadas na Semana: 43\n"
          ]
        }
      ]
    },
    {
      "cell_type": "markdown",
      "source": [
        "#2. Pergunta: Média diária de horas trabalhadas"
      ],
      "metadata": {
        "id": "OwpUclQIXXVn"
      }
    },
    {
      "cell_type": "code",
      "source": [
        "# Calcular a média de horas trabalhadas\n",
        "media_horas_trabalhadas = df[\"Horas Trabalhadas\"].mean().round(0)\n",
        "\n",
        "# Exibir DataFrame e média de horas trabalhadas\n",
        "print(f\"Média de horas trabalhadas na semana: {media_horas_trabalhadas}\")\n"
      ],
      "metadata": {
        "colab": {
          "base_uri": "https://localhost:8080/"
        },
        "id": "hldx5McQX-OO",
        "outputId": "03ed97ec-9f95-4fd1-9960-1aec34fa16c5"
      },
      "execution_count": 46,
      "outputs": [
        {
          "output_type": "stream",
          "name": "stdout",
          "text": [
            "Média de horas trabalhadas na semana: 6.0\n"
          ]
        }
      ]
    }
  ]
}