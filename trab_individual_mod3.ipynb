{
  "nbformat": 4,
  "nbformat_minor": 0,
  "metadata": {
    "colab": {
      "provenance": [],
      "toc_visible": true,
      "authorship_tag": "ABX9TyNEFPfG3kv2wNXXvHweW4/6",
      "include_colab_link": true
    },
    "kernelspec": {
      "name": "python3",
      "display_name": "Python 3"
    },
    "language_info": {
      "name": "python"
    }
  },
  "cells": [
    {
      "cell_type": "markdown",
      "metadata": {
        "id": "view-in-github",
        "colab_type": "text"
      },
      "source": [
        "<a href=\"https://colab.research.google.com/github/Marlon-Dantas/M2_Individual_Resilia_pandas/blob/main/trab_individual_mod3.ipynb\" target=\"_parent\"><img src=\"https://colab.research.google.com/assets/colab-badge.svg\" alt=\"Open In Colab\"/></a>"
      ]
    },
    {
      "cell_type": "markdown",
      "source": [
        "#Criação do DataFrame"
      ],
      "metadata": {
        "id": "rG96GWtTOcwT"
      }
    },
    {
      "cell_type": "code",
      "execution_count": 35,
      "metadata": {
        "colab": {
          "base_uri": "https://localhost:8080/",
          "height": 0
        },
        "id": "PA9imtQWM8xp",
        "outputId": "42f37d95-622d-4ac9-b74d-3a30d89aebec"
      },
      "outputs": [
        {
          "output_type": "stream",
          "name": "stdout",
          "text": [
            "Total de Horas Trabalhadas na Semana: 43\n"
          ]
        }
      ],
      "source": [
        "import pandas as pd\n",
        "\n",
        "# Dicionário usado para criação das análises posteriores\n",
        "infos = {\n",
        "    \"Dia\": [\"Segunda\", \"Terça\", \"Quarta\", \"Quinta\", \"Sexta\", \"Sábado\", \"Domingo\"],\n",
        "    \"Horas Trabalhadas\": [6, 7, 8, 6, 7, 5, 4],\n",
        "    \"Bugs Corrigidos\": [3, 2, 1, 4, 3, 2, 1],\n",
        "    \"Tarefas Concluídas\": [5, 4, 6, 4, 5, 3, 2]\n",
        "}\n",
        "\n",
        "df = pd.DataFrame(infos)\n",
        "\n"
      ]
    },
    {
      "cell_type": "markdown",
      "source": [
        "#1. Pergunta: Total de horas trabalhadas?"
      ],
      "metadata": {
        "id": "jNq0zsHFWyVb"
      }
    },
    {
      "cell_type": "code",
      "source": [
        "# Calcular o total de horas trabalhadas\n",
        "total_horas_trabalhadas = df[\"Horas Trabalhadas\"].sum()\n",
        "\n",
        "# Exibir DataFrame e total de horas trabalhadas\n",
        "print(f\"Total de horas trabalhadas na semana: {total_horas_trabalhadas}\")\n"
      ],
      "metadata": {
        "colab": {
          "base_uri": "https://localhost:8080/",
          "height": 0
        },
        "id": "b-h3hpP5XHPS",
        "outputId": "07461736-007c-49cb-ea83-bf17c4f822d2"
      },
      "execution_count": 36,
      "outputs": [
        {
          "output_type": "stream",
          "name": "stdout",
          "text": [
            "Total de Horas Trabalhadas na Semana: 43\n"
          ]
        }
      ]
    },
    {
      "cell_type": "markdown",
      "source": [
        "#2. Pergunta: Média diária de horas trabalhadas"
      ],
      "metadata": {
        "id": "OwpUclQIXXVn"
      }
    },
    {
      "cell_type": "code",
      "source": [
        "# Calcular a média de horas trabalhadas\n",
        "media_horas_trabalhadas = df[\"Horas Trabalhadas\"].mean().round(0)\n",
        "\n",
        "# Exibir DataFrame e média de horas trabalhadas\n",
        "print(f\"Média de horas trabalhadas na semana: {media_horas_trabalhadas}\")\n"
      ],
      "metadata": {
        "colab": {
          "base_uri": "https://localhost:8080/",
          "height": 0
        },
        "id": "hldx5McQX-OO",
        "outputId": "03ed97ec-9f95-4fd1-9960-1aec34fa16c5"
      },
      "execution_count": 46,
      "outputs": [
        {
          "output_type": "stream",
          "name": "stdout",
          "text": [
            "Média de horas trabalhadas na semana: 6.0\n"
          ]
        }
      ]
    },
    {
      "cell_type": "markdown",
      "source": [
        "# 3. Pergunta: Total de Bugs Corrigidos\n"
      ],
      "metadata": {
        "id": "9H0y_-RCbkDH"
      }
    },
    {
      "cell_type": "code",
      "source": [
        "# Calcular o total de bugs corrigidos\n",
        "total_bugs_corrigidos = df[\"Bugs Corrigidos\"].sum()\n",
        "\n",
        "# Exibir DataFrame e total de bugs corrigidos\n",
        "print(f\"Total de bugs corrigidos na semana: {total_bugs_corrigidos}\")\n"
      ],
      "metadata": {
        "colab": {
          "base_uri": "https://localhost:8080/"
        },
        "id": "-DL0fK5hbpkA",
        "outputId": "90d43478-333c-4a46-cf00-277d1892688f"
      },
      "execution_count": 53,
      "outputs": [
        {
          "output_type": "stream",
          "name": "stdout",
          "text": [
            "Total de bugs corrigidos na semana: 16\n"
          ]
        }
      ]
    },
    {
      "cell_type": "markdown",
      "source": [
        "# 4. Pergunta: Média Diária de Bugs Corrigidos"
      ],
      "metadata": {
        "id": "ovc0SuvAcYnf"
      }
    },
    {
      "cell_type": "code",
      "source": [
        "# Calcular a média de bugs corrigidos\n",
        "media_bugs_corrigidos = df[\"Bugs Corrigidos\"].mean().round(0)\n",
        "\n",
        "# Exibir DataFrame e média de bugs corrigidos\n",
        "print(f\"Média de bugs corrigidos na semana: {media_bugs_corrigidos}\")\n"
      ],
      "metadata": {
        "colab": {
          "base_uri": "https://localhost:8080/"
        },
        "id": "1VQGLNwrcb1w",
        "outputId": "33e1d956-5db1-4c58-c40a-6577aa91208f"
      },
      "execution_count": 110,
      "outputs": [
        {
          "output_type": "stream",
          "name": "stdout",
          "text": [
            "       Dia  Horas Trabalhadas  Bugs Corrigidos  Tarefas Concluídas\n",
            "0  Segunda                  6                3                   5\n",
            "1    Terça                  7                2                   4\n",
            "2   Quarta                  8                1                   6\n",
            "3   Quinta                  6                4                   4\n",
            "4    Sexta                  7                3                   5\n",
            "5   Sábado                  5                2                   3\n",
            "6  Domingo                  4                1                   2\n",
            "Média de bugs corrigidos na semana: 2.0\n"
          ]
        }
      ]
    },
    {
      "cell_type": "markdown",
      "source": [
        "# 5. Pergunta: Total de Tarefas Concluídas"
      ],
      "metadata": {
        "id": "Drqcu-owcq5D"
      }
    },
    {
      "cell_type": "code",
      "source": [
        "# Calcular a total de tarefas concluídas\n",
        "total_tarefas_concluidas = df[\"Tarefas Concluídas\"].sum().round(0)\n",
        "\n",
        "# Exibir DataFrame e total de tarefas concluídas\n",
        "print(f\"Total de tarefas concluídas na semana: {total_tarefas_concluidas}\")\n"
      ],
      "metadata": {
        "colab": {
          "base_uri": "https://localhost:8080/"
        },
        "id": "47wMeqEEdGxT",
        "outputId": "f07016d2-b1df-4c1b-c4d3-455dfd096632"
      },
      "execution_count": 59,
      "outputs": [
        {
          "output_type": "stream",
          "name": "stdout",
          "text": [
            "Total de tarefas concluídas na semana: 29\n"
          ]
        }
      ]
    },
    {
      "cell_type": "markdown",
      "source": [
        "# 6. Pergunta: Média Diária de Tarefas Concluídas"
      ],
      "metadata": {
        "id": "XNuS-3Oid3d0"
      }
    },
    {
      "cell_type": "code",
      "source": [
        "# Calcular a média de tarefas concluídas\n",
        "media_tarefas_concluidas = df[\"Tarefas Concluídas\"].mean().round(0)\n",
        "\n",
        "# Exibir DataFrame e média de tarefas concluídas\n",
        "print(df_original)\n",
        "print(f\"média de tarefas concluídas na semana: {media_tarefas_concluidas}\")\n"
      ],
      "metadata": {
        "colab": {
          "base_uri": "https://localhost:8080/"
        },
        "id": "EWriujc0d_bx",
        "outputId": "a8495bd7-5594-4747-8fd9-78aa5e70a18c"
      },
      "execution_count": 108,
      "outputs": [
        {
          "output_type": "stream",
          "name": "stdout",
          "text": [
            "       Dia  Horas Trabalhadas  Bugs Corrigidos  Tarefas Concluídas\n",
            "0  Segunda                  6                3                   5\n",
            "1    Terça                  7                2                   4\n",
            "2   Quarta                  8                1                   6\n",
            "3   Quinta                  6                4                   4\n",
            "4    Sexta                  7                3                   5\n",
            "5   Sábado                  5                2                   3\n",
            "6  Domingo                  4                1                   2\n",
            "média de tarefas concluídas na semana: 4.0\n"
          ]
        }
      ]
    },
    {
      "cell_type": "markdown",
      "source": [
        "# 7. Pergunta: Produtividade Diária (Tarefas Concluídas por Hora)\n"
      ],
      "metadata": {
        "id": "E8xCjxZ4e9vo"
      }
    },
    {
      "cell_type": "code",
      "source": [
        "# Calcular a produtividade diária (Tarefas Concluídas por Hora)\n",
        "trabalhos_concluidos_hora = (df[\"Tarefas Concluídas\"] / df[\"Horas Trabalhadas\"]).round(2)\n",
        "\n",
        "df_original = df.drop(columns=[\"Produtividade Diária\"])\n",
        "print(df_original)\n",
        "\n",
        "# Exibir o total de tarefas concluídas\n",
        "print(f\"Total de tarefas concluídas na semana: {total_tarefas_concluidas}\")\n",
        "\n",
        "# Exibir o total de horas trabalhadas\n",
        "print(f\"Total de horas trabalhadas na semana: {total_horas_trabalhadas}\")\n",
        "\n",
        "# Exibir trabalhos concluidos por hora\n",
        "print(f\"Produtividade diária:\\n{trabalhos_concluidos_hora}\")"
      ],
      "metadata": {
        "colab": {
          "base_uri": "https://localhost:8080/"
        },
        "id": "GEajYsazfBPk",
        "outputId": "d5d811f8-7353-4c69-c5f4-d00764fdc5a2"
      },
      "execution_count": 111,
      "outputs": [
        {
          "output_type": "stream",
          "name": "stdout",
          "text": [
            "       Dia  Horas Trabalhadas  Bugs Corrigidos  Tarefas Concluídas\n",
            "0  Segunda                  6                3                   5\n",
            "1    Terça                  7                2                   4\n",
            "2   Quarta                  8                1                   6\n",
            "3   Quinta                  6                4                   4\n",
            "4    Sexta                  7                3                   5\n",
            "5   Sábado                  5                2                   3\n",
            "6  Domingo                  4                1                   2\n",
            "Total de tarefas concluídas na semana: 29\n",
            "Total de horas trabalhadas na semana: 43\n",
            "Produtividade diária:\n",
            "0    0.83\n",
            "1    0.57\n",
            "2    0.75\n",
            "3    0.67\n",
            "4    0.71\n",
            "5    0.60\n",
            "6    0.50\n",
            "dtype: float64\n"
          ]
        }
      ]
    }
  ]
}