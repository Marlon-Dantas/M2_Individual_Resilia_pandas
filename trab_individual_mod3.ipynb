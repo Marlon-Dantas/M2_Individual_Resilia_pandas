{
  "nbformat": 4,
  "nbformat_minor": 0,
  "metadata": {
    "colab": {
      "provenance": [],
      "toc_visible": true,
      "authorship_tag": "ABX9TyOyPbGRg9IMGzQnO8+sDRrQ",
      "include_colab_link": true
    },
    "kernelspec": {
      "name": "python3",
      "display_name": "Python 3"
    },
    "language_info": {
      "name": "python"
    }
  },
  "cells": [
    {
      "cell_type": "markdown",
      "metadata": {
        "id": "view-in-github",
        "colab_type": "text"
      },
      "source": [
        "<a href=\"https://colab.research.google.com/github/Marlon-Dantas/M3_Individual_Resilia_pandas/blob/main/trab_individual_mod3.ipynb\" target=\"_parent\"><img src=\"https://colab.research.google.com/assets/colab-badge.svg\" alt=\"Open In Colab\"/></a>"
      ]
    },
    {
      "cell_type": "markdown",
      "source": [
        "#Criação do DataFrame"
      ],
      "metadata": {
        "id": "rG96GWtTOcwT"
      }
    },
    {
      "cell_type": "code",
      "execution_count": 127,
      "metadata": {
        "colab": {
          "base_uri": "https://localhost:8080/",
          "height": 269
        },
        "id": "PA9imtQWM8xp",
        "outputId": "027af27b-340b-45b8-cd64-0b227983ef1a"
      },
      "outputs": [
        {
          "output_type": "execute_result",
          "data": {
            "text/plain": [
              "       Dia  Horas Trabalhadas  Bugs Corrigidos  Tarefas Concluídas\n",
              "0  Segunda                  6                3                   5\n",
              "1    Terça                  7                2                   4\n",
              "2   Quarta                  8                1                   6\n",
              "3   Quinta                  6                4                   4\n",
              "4    Sexta                  7                3                   5\n",
              "5   Sábado                  5                2                   3\n",
              "6  Domingo                  4                1                   2"
            ],
            "text/html": [
              "\n",
              "  <div id=\"df-1b3af748-38c9-4451-be60-9526cdcb9c22\" class=\"colab-df-container\">\n",
              "    <div>\n",
              "<style scoped>\n",
              "    .dataframe tbody tr th:only-of-type {\n",
              "        vertical-align: middle;\n",
              "    }\n",
              "\n",
              "    .dataframe tbody tr th {\n",
              "        vertical-align: top;\n",
              "    }\n",
              "\n",
              "    .dataframe thead th {\n",
              "        text-align: right;\n",
              "    }\n",
              "</style>\n",
              "<table border=\"1\" class=\"dataframe\">\n",
              "  <thead>\n",
              "    <tr style=\"text-align: right;\">\n",
              "      <th></th>\n",
              "      <th>Dia</th>\n",
              "      <th>Horas Trabalhadas</th>\n",
              "      <th>Bugs Corrigidos</th>\n",
              "      <th>Tarefas Concluídas</th>\n",
              "    </tr>\n",
              "  </thead>\n",
              "  <tbody>\n",
              "    <tr>\n",
              "      <th>0</th>\n",
              "      <td>Segunda</td>\n",
              "      <td>6</td>\n",
              "      <td>3</td>\n",
              "      <td>5</td>\n",
              "    </tr>\n",
              "    <tr>\n",
              "      <th>1</th>\n",
              "      <td>Terça</td>\n",
              "      <td>7</td>\n",
              "      <td>2</td>\n",
              "      <td>4</td>\n",
              "    </tr>\n",
              "    <tr>\n",
              "      <th>2</th>\n",
              "      <td>Quarta</td>\n",
              "      <td>8</td>\n",
              "      <td>1</td>\n",
              "      <td>6</td>\n",
              "    </tr>\n",
              "    <tr>\n",
              "      <th>3</th>\n",
              "      <td>Quinta</td>\n",
              "      <td>6</td>\n",
              "      <td>4</td>\n",
              "      <td>4</td>\n",
              "    </tr>\n",
              "    <tr>\n",
              "      <th>4</th>\n",
              "      <td>Sexta</td>\n",
              "      <td>7</td>\n",
              "      <td>3</td>\n",
              "      <td>5</td>\n",
              "    </tr>\n",
              "    <tr>\n",
              "      <th>5</th>\n",
              "      <td>Sábado</td>\n",
              "      <td>5</td>\n",
              "      <td>2</td>\n",
              "      <td>3</td>\n",
              "    </tr>\n",
              "    <tr>\n",
              "      <th>6</th>\n",
              "      <td>Domingo</td>\n",
              "      <td>4</td>\n",
              "      <td>1</td>\n",
              "      <td>2</td>\n",
              "    </tr>\n",
              "  </tbody>\n",
              "</table>\n",
              "</div>\n",
              "    <div class=\"colab-df-buttons\">\n",
              "\n",
              "  <div class=\"colab-df-container\">\n",
              "    <button class=\"colab-df-convert\" onclick=\"convertToInteractive('df-1b3af748-38c9-4451-be60-9526cdcb9c22')\"\n",
              "            title=\"Convert this dataframe to an interactive table.\"\n",
              "            style=\"display:none;\">\n",
              "\n",
              "  <svg xmlns=\"http://www.w3.org/2000/svg\" height=\"24px\" viewBox=\"0 -960 960 960\">\n",
              "    <path d=\"M120-120v-720h720v720H120Zm60-500h600v-160H180v160Zm220 220h160v-160H400v160Zm0 220h160v-160H400v160ZM180-400h160v-160H180v160Zm440 0h160v-160H620v160ZM180-180h160v-160H180v160Zm440 0h160v-160H620v160Z\"/>\n",
              "  </svg>\n",
              "    </button>\n",
              "\n",
              "  <style>\n",
              "    .colab-df-container {\n",
              "      display:flex;\n",
              "      gap: 12px;\n",
              "    }\n",
              "\n",
              "    .colab-df-convert {\n",
              "      background-color: #E8F0FE;\n",
              "      border: none;\n",
              "      border-radius: 50%;\n",
              "      cursor: pointer;\n",
              "      display: none;\n",
              "      fill: #1967D2;\n",
              "      height: 32px;\n",
              "      padding: 0 0 0 0;\n",
              "      width: 32px;\n",
              "    }\n",
              "\n",
              "    .colab-df-convert:hover {\n",
              "      background-color: #E2EBFA;\n",
              "      box-shadow: 0px 1px 2px rgba(60, 64, 67, 0.3), 0px 1px 3px 1px rgba(60, 64, 67, 0.15);\n",
              "      fill: #174EA6;\n",
              "    }\n",
              "\n",
              "    .colab-df-buttons div {\n",
              "      margin-bottom: 4px;\n",
              "    }\n",
              "\n",
              "    [theme=dark] .colab-df-convert {\n",
              "      background-color: #3B4455;\n",
              "      fill: #D2E3FC;\n",
              "    }\n",
              "\n",
              "    [theme=dark] .colab-df-convert:hover {\n",
              "      background-color: #434B5C;\n",
              "      box-shadow: 0px 1px 3px 1px rgba(0, 0, 0, 0.15);\n",
              "      filter: drop-shadow(0px 1px 2px rgba(0, 0, 0, 0.3));\n",
              "      fill: #FFFFFF;\n",
              "    }\n",
              "  </style>\n",
              "\n",
              "    <script>\n",
              "      const buttonEl =\n",
              "        document.querySelector('#df-1b3af748-38c9-4451-be60-9526cdcb9c22 button.colab-df-convert');\n",
              "      buttonEl.style.display =\n",
              "        google.colab.kernel.accessAllowed ? 'block' : 'none';\n",
              "\n",
              "      async function convertToInteractive(key) {\n",
              "        const element = document.querySelector('#df-1b3af748-38c9-4451-be60-9526cdcb9c22');\n",
              "        const dataTable =\n",
              "          await google.colab.kernel.invokeFunction('convertToInteractive',\n",
              "                                                    [key], {});\n",
              "        if (!dataTable) return;\n",
              "\n",
              "        const docLinkHtml = 'Like what you see? Visit the ' +\n",
              "          '<a target=\"_blank\" href=https://colab.research.google.com/notebooks/data_table.ipynb>data table notebook</a>'\n",
              "          + ' to learn more about interactive tables.';\n",
              "        element.innerHTML = '';\n",
              "        dataTable['output_type'] = 'display_data';\n",
              "        await google.colab.output.renderOutput(dataTable, element);\n",
              "        const docLink = document.createElement('div');\n",
              "        docLink.innerHTML = docLinkHtml;\n",
              "        element.appendChild(docLink);\n",
              "      }\n",
              "    </script>\n",
              "  </div>\n",
              "\n",
              "\n",
              "<div id=\"df-572610e1-8726-4389-8c5f-7bdad842e273\">\n",
              "  <button class=\"colab-df-quickchart\" onclick=\"quickchart('df-572610e1-8726-4389-8c5f-7bdad842e273')\"\n",
              "            title=\"Suggest charts\"\n",
              "            style=\"display:none;\">\n",
              "\n",
              "<svg xmlns=\"http://www.w3.org/2000/svg\" height=\"24px\"viewBox=\"0 0 24 24\"\n",
              "     width=\"24px\">\n",
              "    <g>\n",
              "        <path d=\"M19 3H5c-1.1 0-2 .9-2 2v14c0 1.1.9 2 2 2h14c1.1 0 2-.9 2-2V5c0-1.1-.9-2-2-2zM9 17H7v-7h2v7zm4 0h-2V7h2v10zm4 0h-2v-4h2v4z\"/>\n",
              "    </g>\n",
              "</svg>\n",
              "  </button>\n",
              "\n",
              "<style>\n",
              "  .colab-df-quickchart {\n",
              "      --bg-color: #E8F0FE;\n",
              "      --fill-color: #1967D2;\n",
              "      --hover-bg-color: #E2EBFA;\n",
              "      --hover-fill-color: #174EA6;\n",
              "      --disabled-fill-color: #AAA;\n",
              "      --disabled-bg-color: #DDD;\n",
              "  }\n",
              "\n",
              "  [theme=dark] .colab-df-quickchart {\n",
              "      --bg-color: #3B4455;\n",
              "      --fill-color: #D2E3FC;\n",
              "      --hover-bg-color: #434B5C;\n",
              "      --hover-fill-color: #FFFFFF;\n",
              "      --disabled-bg-color: #3B4455;\n",
              "      --disabled-fill-color: #666;\n",
              "  }\n",
              "\n",
              "  .colab-df-quickchart {\n",
              "    background-color: var(--bg-color);\n",
              "    border: none;\n",
              "    border-radius: 50%;\n",
              "    cursor: pointer;\n",
              "    display: none;\n",
              "    fill: var(--fill-color);\n",
              "    height: 32px;\n",
              "    padding: 0;\n",
              "    width: 32px;\n",
              "  }\n",
              "\n",
              "  .colab-df-quickchart:hover {\n",
              "    background-color: var(--hover-bg-color);\n",
              "    box-shadow: 0 1px 2px rgba(60, 64, 67, 0.3), 0 1px 3px 1px rgba(60, 64, 67, 0.15);\n",
              "    fill: var(--button-hover-fill-color);\n",
              "  }\n",
              "\n",
              "  .colab-df-quickchart-complete:disabled,\n",
              "  .colab-df-quickchart-complete:disabled:hover {\n",
              "    background-color: var(--disabled-bg-color);\n",
              "    fill: var(--disabled-fill-color);\n",
              "    box-shadow: none;\n",
              "  }\n",
              "\n",
              "  .colab-df-spinner {\n",
              "    border: 2px solid var(--fill-color);\n",
              "    border-color: transparent;\n",
              "    border-bottom-color: var(--fill-color);\n",
              "    animation:\n",
              "      spin 1s steps(1) infinite;\n",
              "  }\n",
              "\n",
              "  @keyframes spin {\n",
              "    0% {\n",
              "      border-color: transparent;\n",
              "      border-bottom-color: var(--fill-color);\n",
              "      border-left-color: var(--fill-color);\n",
              "    }\n",
              "    20% {\n",
              "      border-color: transparent;\n",
              "      border-left-color: var(--fill-color);\n",
              "      border-top-color: var(--fill-color);\n",
              "    }\n",
              "    30% {\n",
              "      border-color: transparent;\n",
              "      border-left-color: var(--fill-color);\n",
              "      border-top-color: var(--fill-color);\n",
              "      border-right-color: var(--fill-color);\n",
              "    }\n",
              "    40% {\n",
              "      border-color: transparent;\n",
              "      border-right-color: var(--fill-color);\n",
              "      border-top-color: var(--fill-color);\n",
              "    }\n",
              "    60% {\n",
              "      border-color: transparent;\n",
              "      border-right-color: var(--fill-color);\n",
              "    }\n",
              "    80% {\n",
              "      border-color: transparent;\n",
              "      border-right-color: var(--fill-color);\n",
              "      border-bottom-color: var(--fill-color);\n",
              "    }\n",
              "    90% {\n",
              "      border-color: transparent;\n",
              "      border-bottom-color: var(--fill-color);\n",
              "    }\n",
              "  }\n",
              "</style>\n",
              "\n",
              "  <script>\n",
              "    async function quickchart(key) {\n",
              "      const quickchartButtonEl =\n",
              "        document.querySelector('#' + key + ' button');\n",
              "      quickchartButtonEl.disabled = true;  // To prevent multiple clicks.\n",
              "      quickchartButtonEl.classList.add('colab-df-spinner');\n",
              "      try {\n",
              "        const charts = await google.colab.kernel.invokeFunction(\n",
              "            'suggestCharts', [key], {});\n",
              "      } catch (error) {\n",
              "        console.error('Error during call to suggestCharts:', error);\n",
              "      }\n",
              "      quickchartButtonEl.classList.remove('colab-df-spinner');\n",
              "      quickchartButtonEl.classList.add('colab-df-quickchart-complete');\n",
              "    }\n",
              "    (() => {\n",
              "      let quickchartButtonEl =\n",
              "        document.querySelector('#df-572610e1-8726-4389-8c5f-7bdad842e273 button');\n",
              "      quickchartButtonEl.style.display =\n",
              "        google.colab.kernel.accessAllowed ? 'block' : 'none';\n",
              "    })();\n",
              "  </script>\n",
              "</div>\n",
              "\n",
              "  <div id=\"id_880ec0a5-e846-4a85-a128-653ba334e53a\">\n",
              "    <style>\n",
              "      .colab-df-generate {\n",
              "        background-color: #E8F0FE;\n",
              "        border: none;\n",
              "        border-radius: 50%;\n",
              "        cursor: pointer;\n",
              "        display: none;\n",
              "        fill: #1967D2;\n",
              "        height: 32px;\n",
              "        padding: 0 0 0 0;\n",
              "        width: 32px;\n",
              "      }\n",
              "\n",
              "      .colab-df-generate:hover {\n",
              "        background-color: #E2EBFA;\n",
              "        box-shadow: 0px 1px 2px rgba(60, 64, 67, 0.3), 0px 1px 3px 1px rgba(60, 64, 67, 0.15);\n",
              "        fill: #174EA6;\n",
              "      }\n",
              "\n",
              "      [theme=dark] .colab-df-generate {\n",
              "        background-color: #3B4455;\n",
              "        fill: #D2E3FC;\n",
              "      }\n",
              "\n",
              "      [theme=dark] .colab-df-generate:hover {\n",
              "        background-color: #434B5C;\n",
              "        box-shadow: 0px 1px 3px 1px rgba(0, 0, 0, 0.15);\n",
              "        filter: drop-shadow(0px 1px 2px rgba(0, 0, 0, 0.3));\n",
              "        fill: #FFFFFF;\n",
              "      }\n",
              "    </style>\n",
              "    <button class=\"colab-df-generate\" onclick=\"generateWithVariable('df')\"\n",
              "            title=\"Generate code using this dataframe.\"\n",
              "            style=\"display:none;\">\n",
              "\n",
              "  <svg xmlns=\"http://www.w3.org/2000/svg\" height=\"24px\"viewBox=\"0 0 24 24\"\n",
              "       width=\"24px\">\n",
              "    <path d=\"M7,19H8.4L18.45,9,17,7.55,7,17.6ZM5,21V16.75L18.45,3.32a2,2,0,0,1,2.83,0l1.4,1.43a1.91,1.91,0,0,1,.58,1.4,1.91,1.91,0,0,1-.58,1.4L9.25,21ZM18.45,9,17,7.55Zm-12,3A5.31,5.31,0,0,0,4.9,8.1,5.31,5.31,0,0,0,1,6.5,5.31,5.31,0,0,0,4.9,4.9,5.31,5.31,0,0,0,6.5,1,5.31,5.31,0,0,0,8.1,4.9,5.31,5.31,0,0,0,12,6.5,5.46,5.46,0,0,0,6.5,12Z\"/>\n",
              "  </svg>\n",
              "    </button>\n",
              "    <script>\n",
              "      (() => {\n",
              "      const buttonEl =\n",
              "        document.querySelector('#id_880ec0a5-e846-4a85-a128-653ba334e53a button.colab-df-generate');\n",
              "      buttonEl.style.display =\n",
              "        google.colab.kernel.accessAllowed ? 'block' : 'none';\n",
              "\n",
              "      buttonEl.onclick = () => {\n",
              "        google.colab.notebook.generateWithVariable('df');\n",
              "      }\n",
              "      })();\n",
              "    </script>\n",
              "  </div>\n",
              "\n",
              "    </div>\n",
              "  </div>\n"
            ],
            "application/vnd.google.colaboratory.intrinsic+json": {
              "type": "dataframe",
              "variable_name": "df",
              "summary": "{\n  \"name\": \"df\",\n  \"rows\": 7,\n  \"fields\": [\n    {\n      \"column\": \"Dia\",\n      \"properties\": {\n        \"dtype\": \"string\",\n        \"num_unique_values\": 7,\n        \"samples\": [\n          \"Segunda\",\n          \"Ter\\u00e7a\",\n          \"S\\u00e1bado\"\n        ],\n        \"semantic_type\": \"\",\n        \"description\": \"\"\n      }\n    },\n    {\n      \"column\": \"Horas Trabalhadas\",\n      \"properties\": {\n        \"dtype\": \"number\",\n        \"std\": 1,\n        \"min\": 4,\n        \"max\": 8,\n        \"num_unique_values\": 5,\n        \"samples\": [\n          7,\n          4,\n          8\n        ],\n        \"semantic_type\": \"\",\n        \"description\": \"\"\n      }\n    },\n    {\n      \"column\": \"Bugs Corrigidos\",\n      \"properties\": {\n        \"dtype\": \"number\",\n        \"std\": 1,\n        \"min\": 1,\n        \"max\": 4,\n        \"num_unique_values\": 4,\n        \"samples\": [\n          2,\n          4,\n          3\n        ],\n        \"semantic_type\": \"\",\n        \"description\": \"\"\n      }\n    },\n    {\n      \"column\": \"Tarefas Conclu\\u00eddas\",\n      \"properties\": {\n        \"dtype\": \"number\",\n        \"std\": 1,\n        \"min\": 2,\n        \"max\": 6,\n        \"num_unique_values\": 5,\n        \"samples\": [\n          4,\n          2,\n          6\n        ],\n        \"semantic_type\": \"\",\n        \"description\": \"\"\n      }\n    }\n  ]\n}"
            }
          },
          "metadata": {},
          "execution_count": 127
        }
      ],
      "source": [
        "import pandas as pd\n",
        "\n",
        "# Dicionário usado para criação das análises posteriores\n",
        "infos = {\n",
        "    \"Dia\": [\"Segunda\", \"Terça\", \"Quarta\", \"Quinta\", \"Sexta\", \"Sábado\", \"Domingo\"],\n",
        "    \"Horas Trabalhadas\": [6, 7, 8, 6, 7, 5, 4],\n",
        "    \"Bugs Corrigidos\": [3, 2, 1, 4, 3, 2, 1],\n",
        "    \"Tarefas Concluídas\": [5, 4, 6, 4, 5, 3, 2]\n",
        "}\n",
        "\n",
        "df = pd.DataFrame(infos)\n",
        "df"
      ]
    },
    {
      "cell_type": "markdown",
      "source": [
        "#1. Pergunta: Total de horas trabalhadas?"
      ],
      "metadata": {
        "id": "jNq0zsHFWyVb"
      }
    },
    {
      "cell_type": "code",
      "source": [
        "# Calcular o total de horas trabalhadas\n",
        "total_horas_trabalhadas = df[\"Horas Trabalhadas\"].sum()\n",
        "\n",
        "# Exibir DataFrame e total de horas trabalhadas\n",
        "print(df_original)\n",
        "print(f\"Total de horas trabalhadas na semana: {total_horas_trabalhadas}\")\n"
      ],
      "metadata": {
        "colab": {
          "base_uri": "https://localhost:8080/"
        },
        "id": "b-h3hpP5XHPS",
        "outputId": "c9060fc9-c519-4bd5-9ef7-0a3ccd3f9146"
      },
      "execution_count": 121,
      "outputs": [
        {
          "output_type": "stream",
          "name": "stdout",
          "text": [
            "       Dia  Horas Trabalhadas  Bugs Corrigidos  Tarefas Concluídas\n",
            "0  Segunda                  6                3                   5\n",
            "1    Terça                  7                2                   4\n",
            "2   Quarta                  8                1                   6\n",
            "3   Quinta                  6                4                   4\n",
            "4    Sexta                  7                3                   5\n",
            "5   Sábado                  5                2                   3\n",
            "6  Domingo                  4                1                   2\n",
            "Total de horas trabalhadas na semana: 43\n"
          ]
        }
      ]
    },
    {
      "cell_type": "markdown",
      "source": [
        "#2. Pergunta: Média diária de horas trabalhadas"
      ],
      "metadata": {
        "id": "OwpUclQIXXVn"
      }
    },
    {
      "cell_type": "code",
      "source": [
        "# Calcular a média de horas trabalhadas\n",
        "media_horas_trabalhadas = df[\"Horas Trabalhadas\"].mean().round(0)\n",
        "\n",
        "# Exibir DataFrame e média de horas trabalhadas\n",
        "print(df_original)\n",
        "print(f\"Média de horas trabalhadas na semana: {media_horas_trabalhadas}\")\n"
      ],
      "metadata": {
        "colab": {
          "base_uri": "https://localhost:8080/",
          "height": 0
        },
        "id": "hldx5McQX-OO",
        "outputId": "03ed97ec-9f95-4fd1-9960-1aec34fa16c5"
      },
      "execution_count": 46,
      "outputs": [
        {
          "output_type": "stream",
          "name": "stdout",
          "text": [
            "Média de horas trabalhadas na semana: 6.0\n"
          ]
        }
      ]
    },
    {
      "cell_type": "markdown",
      "source": [
        "# 3. Pergunta: Total de Bugs Corrigidos\n"
      ],
      "metadata": {
        "id": "9H0y_-RCbkDH"
      }
    },
    {
      "cell_type": "code",
      "source": [
        "# Calcular o total de bugs corrigidos\n",
        "total_bugs_corrigidos = df[\"Bugs Corrigidos\"].sum()\n",
        "\n",
        "# Exibir DataFrame e total de bugs corrigidos\n",
        "print(df_original)\n",
        "print(f\"Total de bugs corrigidos na semana: {total_bugs_corrigidos}\")\n"
      ],
      "metadata": {
        "colab": {
          "base_uri": "https://localhost:8080/"
        },
        "id": "-DL0fK5hbpkA",
        "outputId": "8a69e61a-94a1-4c8f-8ee1-9b6fa356e006"
      },
      "execution_count": 118,
      "outputs": [
        {
          "output_type": "stream",
          "name": "stdout",
          "text": [
            "       Dia  Horas Trabalhadas  Bugs Corrigidos  Tarefas Concluídas\n",
            "0  Segunda                  6                3                   5\n",
            "1    Terça                  7                2                   4\n",
            "2   Quarta                  8                1                   6\n",
            "3   Quinta                  6                4                   4\n",
            "4    Sexta                  7                3                   5\n",
            "5   Sábado                  5                2                   3\n",
            "6  Domingo                  4                1                   2\n",
            "Total de bugs corrigidos na semana: 16\n"
          ]
        }
      ]
    },
    {
      "cell_type": "markdown",
      "source": [
        "# 4. Pergunta: Média Diária de Bugs Corrigidos"
      ],
      "metadata": {
        "id": "ovc0SuvAcYnf"
      }
    },
    {
      "cell_type": "code",
      "source": [
        "# Calcular a média de bugs corrigidos\n",
        "media_bugs_corrigidos = df[\"Bugs Corrigidos\"].mean().round(0)\n",
        "\n",
        "# Exibir DataFrame e média de bugs corrigidos\n",
        "print(df_original)\n",
        "print(f\"Média de bugs corrigidos na semana: {media_bugs_corrigidos}\")\n"
      ],
      "metadata": {
        "colab": {
          "base_uri": "https://localhost:8080/"
        },
        "id": "1VQGLNwrcb1w",
        "outputId": "95dc7307-635d-4d52-b8d6-d6918bcae749"
      },
      "execution_count": 117,
      "outputs": [
        {
          "output_type": "stream",
          "name": "stdout",
          "text": [
            "       Dia  Horas Trabalhadas  Bugs Corrigidos  Tarefas Concluídas\n",
            "0  Segunda                  6                3                   5\n",
            "1    Terça                  7                2                   4\n",
            "2   Quarta                  8                1                   6\n",
            "3   Quinta                  6                4                   4\n",
            "4    Sexta                  7                3                   5\n",
            "5   Sábado                  5                2                   3\n",
            "6  Domingo                  4                1                   2\n",
            "Média de bugs corrigidos na semana: 2.0\n"
          ]
        }
      ]
    },
    {
      "cell_type": "markdown",
      "source": [
        "# 5. Pergunta: Total de Tarefas Concluídas"
      ],
      "metadata": {
        "id": "Drqcu-owcq5D"
      }
    },
    {
      "cell_type": "code",
      "source": [
        "# Calcular a total de tarefas concluídas\n",
        "total_tarefas_concluidas = df[\"Tarefas Concluídas\"].sum().round(0)\n",
        "\n",
        "# Exibir DataFrame e total de tarefas concluídas\n",
        "print(df_original)\n",
        "print(f\"Total de tarefas concluídas na semana: {total_tarefas_concluidas}\")\n"
      ],
      "metadata": {
        "colab": {
          "base_uri": "https://localhost:8080/"
        },
        "id": "47wMeqEEdGxT",
        "outputId": "b9418377-b4f1-4f68-c7d5-2c2061f97835"
      },
      "execution_count": 116,
      "outputs": [
        {
          "output_type": "stream",
          "name": "stdout",
          "text": [
            "       Dia  Horas Trabalhadas  Bugs Corrigidos  Tarefas Concluídas\n",
            "0  Segunda                  6                3                   5\n",
            "1    Terça                  7                2                   4\n",
            "2   Quarta                  8                1                   6\n",
            "3   Quinta                  6                4                   4\n",
            "4    Sexta                  7                3                   5\n",
            "5   Sábado                  5                2                   3\n",
            "6  Domingo                  4                1                   2\n",
            "Total de tarefas concluídas na semana: 29\n"
          ]
        }
      ]
    },
    {
      "cell_type": "markdown",
      "source": [
        "# 6. Pergunta: Média Diária de Tarefas Concluídas"
      ],
      "metadata": {
        "id": "XNuS-3Oid3d0"
      }
    },
    {
      "cell_type": "code",
      "source": [
        "# Calcular a média de tarefas concluídas\n",
        "media_tarefas_concluidas = df[\"Tarefas Concluídas\"].mean().round(0)\n",
        "\n",
        "# Exibir DataFrame e média de tarefas concluídas\n",
        "print(df_original)\n",
        "print(f\"média de tarefas concluídas na semana: {media_tarefas_concluidas}\")\n"
      ],
      "metadata": {
        "colab": {
          "base_uri": "https://localhost:8080/"
        },
        "id": "EWriujc0d_bx",
        "outputId": "c7bd216f-2e35-4e24-9618-cbaae9d3169d"
      },
      "execution_count": 115,
      "outputs": [
        {
          "output_type": "stream",
          "name": "stdout",
          "text": [
            "       Dia  Horas Trabalhadas  Bugs Corrigidos  Tarefas Concluídas\n",
            "0  Segunda                  6                3                   5\n",
            "1    Terça                  7                2                   4\n",
            "2   Quarta                  8                1                   6\n",
            "3   Quinta                  6                4                   4\n",
            "4    Sexta                  7                3                   5\n",
            "5   Sábado                  5                2                   3\n",
            "6  Domingo                  4                1                   2\n",
            "média de tarefas concluídas na semana: 4.0\n"
          ]
        }
      ]
    },
    {
      "cell_type": "markdown",
      "source": [
        "# 7. Pergunta: Produtividade Diária (Tarefas Concluídas por Hora)\n"
      ],
      "metadata": {
        "id": "E8xCjxZ4e9vo"
      }
    },
    {
      "cell_type": "code",
      "source": [
        "# Calcular a produtividade diária (Tarefas Concluídas por Hora)\n",
        "trabalhos_concluidos_hora = (df[\"Tarefas Concluídas\"] / df[\"Horas Trabalhadas\"]).round(2)\n",
        "\n",
        "df_original = df.drop(columns=[\"Produtividade Diária\"])\n",
        "print(df_original)\n",
        "\n",
        "# Exibir o total de tarefas concluídas\n",
        "print(f\"Total de tarefas concluídas na semana: {total_tarefas_concluidas}\")\n",
        "\n",
        "# Exibir o total de horas trabalhadas\n",
        "print(f\"Total de horas trabalhadas na semana: {total_horas_trabalhadas}\")\n",
        "\n",
        "# Exibir trabalhos concluidos por hora\n",
        "print(f\"Produtividade diária:\\n{trabalhos_concluidos_hora}\")"
      ],
      "metadata": {
        "colab": {
          "base_uri": "https://localhost:8080/"
        },
        "id": "GEajYsazfBPk",
        "outputId": "d5d811f8-7353-4c69-c5f4-d00764fdc5a2"
      },
      "execution_count": 111,
      "outputs": [
        {
          "output_type": "stream",
          "name": "stdout",
          "text": [
            "       Dia  Horas Trabalhadas  Bugs Corrigidos  Tarefas Concluídas\n",
            "0  Segunda                  6                3                   5\n",
            "1    Terça                  7                2                   4\n",
            "2   Quarta                  8                1                   6\n",
            "3   Quinta                  6                4                   4\n",
            "4    Sexta                  7                3                   5\n",
            "5   Sábado                  5                2                   3\n",
            "6  Domingo                  4                1                   2\n",
            "Total de tarefas concluídas na semana: 29\n",
            "Total de horas trabalhadas na semana: 43\n",
            "Produtividade diária:\n",
            "0    0.83\n",
            "1    0.57\n",
            "2    0.75\n",
            "3    0.67\n",
            "4    0.71\n",
            "5    0.60\n",
            "6    0.50\n",
            "dtype: float64\n"
          ]
        }
      ]
    }
  ]
}